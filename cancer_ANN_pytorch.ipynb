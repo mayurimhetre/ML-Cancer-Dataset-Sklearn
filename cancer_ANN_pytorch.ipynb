{
  "nbformat": 4,
  "nbformat_minor": 0,
  "metadata": {
    "colab": {
      "name": "cancer_ANN_pytorch.ipynb",
      "provenance": [],
      "collapsed_sections": []
    },
    "kernelspec": {
      "name": "python3",
      "display_name": "Python 3"
    },
    "language_info": {
      "name": "python"
    },
    "accelerator": "GPU"
  },
  "cells": [
    {
      "cell_type": "code",
      "metadata": {
        "colab": {
          "base_uri": "https://localhost:8080/",
          "height": 256
        },
        "id": "-ICTZr4hjyai",
        "outputId": "d30838d4-3365-42f0-89ed-f4e0d44357e8"
      },
      "source": [
        "import pandas as pd\n",
        "import matplotlib.pyplot as plt\n",
        "import numpy as np\n",
        "import seaborn as sns\n",
        "from sklearn.datasets import load_breast_cancer\n",
        "data = load_breast_cancer()\n",
        "\n",
        "#### DATA FRAME in pandas #####\n",
        "df = pd.DataFrame(data.data,columns=data.feature_names)\n",
        "df2 = pd.DataFrame(data.target,columns=['target'])\n",
        "final_dataset = pd.concat([df,df2],axis=1)\n",
        "final_dataset.head()"
      ],
      "execution_count": 3,
      "outputs": [
        {
          "output_type": "execute_result",
          "data": {
            "text/html": [
              "<div>\n",
              "<style scoped>\n",
              "    .dataframe tbody tr th:only-of-type {\n",
              "        vertical-align: middle;\n",
              "    }\n",
              "\n",
              "    .dataframe tbody tr th {\n",
              "        vertical-align: top;\n",
              "    }\n",
              "\n",
              "    .dataframe thead th {\n",
              "        text-align: right;\n",
              "    }\n",
              "</style>\n",
              "<table border=\"1\" class=\"dataframe\">\n",
              "  <thead>\n",
              "    <tr style=\"text-align: right;\">\n",
              "      <th></th>\n",
              "      <th>mean radius</th>\n",
              "      <th>mean texture</th>\n",
              "      <th>mean perimeter</th>\n",
              "      <th>mean area</th>\n",
              "      <th>mean smoothness</th>\n",
              "      <th>mean compactness</th>\n",
              "      <th>mean concavity</th>\n",
              "      <th>mean concave points</th>\n",
              "      <th>mean symmetry</th>\n",
              "      <th>mean fractal dimension</th>\n",
              "      <th>radius error</th>\n",
              "      <th>texture error</th>\n",
              "      <th>perimeter error</th>\n",
              "      <th>area error</th>\n",
              "      <th>smoothness error</th>\n",
              "      <th>compactness error</th>\n",
              "      <th>concavity error</th>\n",
              "      <th>concave points error</th>\n",
              "      <th>symmetry error</th>\n",
              "      <th>fractal dimension error</th>\n",
              "      <th>worst radius</th>\n",
              "      <th>worst texture</th>\n",
              "      <th>worst perimeter</th>\n",
              "      <th>worst area</th>\n",
              "      <th>worst smoothness</th>\n",
              "      <th>worst compactness</th>\n",
              "      <th>worst concavity</th>\n",
              "      <th>worst concave points</th>\n",
              "      <th>worst symmetry</th>\n",
              "      <th>worst fractal dimension</th>\n",
              "      <th>target</th>\n",
              "    </tr>\n",
              "  </thead>\n",
              "  <tbody>\n",
              "    <tr>\n",
              "      <th>0</th>\n",
              "      <td>17.99</td>\n",
              "      <td>10.38</td>\n",
              "      <td>122.80</td>\n",
              "      <td>1001.0</td>\n",
              "      <td>0.11840</td>\n",
              "      <td>0.27760</td>\n",
              "      <td>0.3001</td>\n",
              "      <td>0.14710</td>\n",
              "      <td>0.2419</td>\n",
              "      <td>0.07871</td>\n",
              "      <td>1.0950</td>\n",
              "      <td>0.9053</td>\n",
              "      <td>8.589</td>\n",
              "      <td>153.40</td>\n",
              "      <td>0.006399</td>\n",
              "      <td>0.04904</td>\n",
              "      <td>0.05373</td>\n",
              "      <td>0.01587</td>\n",
              "      <td>0.03003</td>\n",
              "      <td>0.006193</td>\n",
              "      <td>25.38</td>\n",
              "      <td>17.33</td>\n",
              "      <td>184.60</td>\n",
              "      <td>2019.0</td>\n",
              "      <td>0.1622</td>\n",
              "      <td>0.6656</td>\n",
              "      <td>0.7119</td>\n",
              "      <td>0.2654</td>\n",
              "      <td>0.4601</td>\n",
              "      <td>0.11890</td>\n",
              "      <td>0</td>\n",
              "    </tr>\n",
              "    <tr>\n",
              "      <th>1</th>\n",
              "      <td>20.57</td>\n",
              "      <td>17.77</td>\n",
              "      <td>132.90</td>\n",
              "      <td>1326.0</td>\n",
              "      <td>0.08474</td>\n",
              "      <td>0.07864</td>\n",
              "      <td>0.0869</td>\n",
              "      <td>0.07017</td>\n",
              "      <td>0.1812</td>\n",
              "      <td>0.05667</td>\n",
              "      <td>0.5435</td>\n",
              "      <td>0.7339</td>\n",
              "      <td>3.398</td>\n",
              "      <td>74.08</td>\n",
              "      <td>0.005225</td>\n",
              "      <td>0.01308</td>\n",
              "      <td>0.01860</td>\n",
              "      <td>0.01340</td>\n",
              "      <td>0.01389</td>\n",
              "      <td>0.003532</td>\n",
              "      <td>24.99</td>\n",
              "      <td>23.41</td>\n",
              "      <td>158.80</td>\n",
              "      <td>1956.0</td>\n",
              "      <td>0.1238</td>\n",
              "      <td>0.1866</td>\n",
              "      <td>0.2416</td>\n",
              "      <td>0.1860</td>\n",
              "      <td>0.2750</td>\n",
              "      <td>0.08902</td>\n",
              "      <td>0</td>\n",
              "    </tr>\n",
              "    <tr>\n",
              "      <th>2</th>\n",
              "      <td>19.69</td>\n",
              "      <td>21.25</td>\n",
              "      <td>130.00</td>\n",
              "      <td>1203.0</td>\n",
              "      <td>0.10960</td>\n",
              "      <td>0.15990</td>\n",
              "      <td>0.1974</td>\n",
              "      <td>0.12790</td>\n",
              "      <td>0.2069</td>\n",
              "      <td>0.05999</td>\n",
              "      <td>0.7456</td>\n",
              "      <td>0.7869</td>\n",
              "      <td>4.585</td>\n",
              "      <td>94.03</td>\n",
              "      <td>0.006150</td>\n",
              "      <td>0.04006</td>\n",
              "      <td>0.03832</td>\n",
              "      <td>0.02058</td>\n",
              "      <td>0.02250</td>\n",
              "      <td>0.004571</td>\n",
              "      <td>23.57</td>\n",
              "      <td>25.53</td>\n",
              "      <td>152.50</td>\n",
              "      <td>1709.0</td>\n",
              "      <td>0.1444</td>\n",
              "      <td>0.4245</td>\n",
              "      <td>0.4504</td>\n",
              "      <td>0.2430</td>\n",
              "      <td>0.3613</td>\n",
              "      <td>0.08758</td>\n",
              "      <td>0</td>\n",
              "    </tr>\n",
              "    <tr>\n",
              "      <th>3</th>\n",
              "      <td>11.42</td>\n",
              "      <td>20.38</td>\n",
              "      <td>77.58</td>\n",
              "      <td>386.1</td>\n",
              "      <td>0.14250</td>\n",
              "      <td>0.28390</td>\n",
              "      <td>0.2414</td>\n",
              "      <td>0.10520</td>\n",
              "      <td>0.2597</td>\n",
              "      <td>0.09744</td>\n",
              "      <td>0.4956</td>\n",
              "      <td>1.1560</td>\n",
              "      <td>3.445</td>\n",
              "      <td>27.23</td>\n",
              "      <td>0.009110</td>\n",
              "      <td>0.07458</td>\n",
              "      <td>0.05661</td>\n",
              "      <td>0.01867</td>\n",
              "      <td>0.05963</td>\n",
              "      <td>0.009208</td>\n",
              "      <td>14.91</td>\n",
              "      <td>26.50</td>\n",
              "      <td>98.87</td>\n",
              "      <td>567.7</td>\n",
              "      <td>0.2098</td>\n",
              "      <td>0.8663</td>\n",
              "      <td>0.6869</td>\n",
              "      <td>0.2575</td>\n",
              "      <td>0.6638</td>\n",
              "      <td>0.17300</td>\n",
              "      <td>0</td>\n",
              "    </tr>\n",
              "    <tr>\n",
              "      <th>4</th>\n",
              "      <td>20.29</td>\n",
              "      <td>14.34</td>\n",
              "      <td>135.10</td>\n",
              "      <td>1297.0</td>\n",
              "      <td>0.10030</td>\n",
              "      <td>0.13280</td>\n",
              "      <td>0.1980</td>\n",
              "      <td>0.10430</td>\n",
              "      <td>0.1809</td>\n",
              "      <td>0.05883</td>\n",
              "      <td>0.7572</td>\n",
              "      <td>0.7813</td>\n",
              "      <td>5.438</td>\n",
              "      <td>94.44</td>\n",
              "      <td>0.011490</td>\n",
              "      <td>0.02461</td>\n",
              "      <td>0.05688</td>\n",
              "      <td>0.01885</td>\n",
              "      <td>0.01756</td>\n",
              "      <td>0.005115</td>\n",
              "      <td>22.54</td>\n",
              "      <td>16.67</td>\n",
              "      <td>152.20</td>\n",
              "      <td>1575.0</td>\n",
              "      <td>0.1374</td>\n",
              "      <td>0.2050</td>\n",
              "      <td>0.4000</td>\n",
              "      <td>0.1625</td>\n",
              "      <td>0.2364</td>\n",
              "      <td>0.07678</td>\n",
              "      <td>0</td>\n",
              "    </tr>\n",
              "  </tbody>\n",
              "</table>\n",
              "</div>"
            ],
            "text/plain": [
              "   mean radius  mean texture  ...  worst fractal dimension  target\n",
              "0        17.99         10.38  ...                  0.11890       0\n",
              "1        20.57         17.77  ...                  0.08902       0\n",
              "2        19.69         21.25  ...                  0.08758       0\n",
              "3        11.42         20.38  ...                  0.17300       0\n",
              "4        20.29         14.34  ...                  0.07678       0\n",
              "\n",
              "[5 rows x 31 columns]"
            ]
          },
          "metadata": {
            "tags": []
          },
          "execution_count": 3
        }
      ]
    },
    {
      "cell_type": "code",
      "metadata": {
        "colab": {
          "base_uri": "https://localhost:8080/"
        },
        "id": "qDfdSURtjzS0",
        "outputId": "9f0cf0fa-777a-4436-c699-d9dd3f60f7d5"
      },
      "source": [
        "final_dataset.shape"
      ],
      "execution_count": 4,
      "outputs": [
        {
          "output_type": "execute_result",
          "data": {
            "text/plain": [
              "(569, 31)"
            ]
          },
          "metadata": {
            "tags": []
          },
          "execution_count": 4
        }
      ]
    },
    {
      "cell_type": "code",
      "metadata": {
        "colab": {
          "base_uri": "https://localhost:8080/"
        },
        "id": "hL7ge6v1j-sz",
        "outputId": "00eed309-4ca2-4fbb-d47c-b83edec1904e"
      },
      "source": [
        "final_dataset['target'].value_counts()"
      ],
      "execution_count": 5,
      "outputs": [
        {
          "output_type": "execute_result",
          "data": {
            "text/plain": [
              "1    357\n",
              "0    212\n",
              "Name: target, dtype: int64"
            ]
          },
          "metadata": {
            "tags": []
          },
          "execution_count": 5
        }
      ]
    },
    {
      "cell_type": "code",
      "metadata": {
        "colab": {
          "base_uri": "https://localhost:8080/",
          "height": 296
        },
        "id": "PDVdMezHkP8P",
        "outputId": "c9a4e3bb-9253-4a1c-bd2b-753e7e5f57a3"
      },
      "source": [
        "sns.scatterplot(data=final_dataset, x=\"mean radius\", y=\"mean texture\",hue='target')"
      ],
      "execution_count": 6,
      "outputs": [
        {
          "output_type": "execute_result",
          "data": {
            "text/plain": [
              "<matplotlib.axes._subplots.AxesSubplot at 0x7f5767b4a3d0>"
            ]
          },
          "metadata": {
            "tags": []
          },
          "execution_count": 6
        },
        {
          "output_type": "display_data",
          "data": {
            "image/png": "[encoded data removed]",
            "text/plain": [
              "<Figure size 432x288 with 1 Axes>"
            ]
          },
          "metadata": {
            "tags": [],
            "needs_background": "light"
          }
        }
      ]
    },
    {
      "cell_type": "code",
      "metadata": {
        "colab": {
          "base_uri": "https://localhost:8080/"
        },
        "id": "FZtkmiD2kstp",
        "outputId": "6f94fb09-4181-4270-a476-c7fef5ada222"
      },
      "source": [
        "\n",
        "!pip install torch"
      ],
      "execution_count": 12,
      "outputs": [
        {
          "output_type": "stream",
          "text": [
            "Requirement already satisfied: torch in /usr/local/lib/python3.7/dist-packages (1.8.1+cu101)\n",
            "Requirement already satisfied: numpy in /usr/local/lib/python3.7/dist-packages (from torch) (1.19.5)\n",
            "Requirement already satisfied: typing-extensions in /usr/local/lib/python3.7/dist-packages (from torch) (3.7.4.3)\n"
          ],
          "name": "stdout"
        }
      ]
    },
    {
      "cell_type": "code",
      "metadata": {
        "colab": {
          "base_uri": "https://localhost:8080/"
        },
        "id": "-Nuz6FPakzUd",
        "outputId": "ea4bdeee-482a-40e8-c1e5-cae2cde42137"
      },
      "source": [
        "import torch\n",
        "print(torch.cuda.is_available())\n",
        "device = 'cuda' if torch.cuda.is_available() else 'cpu'"
      ],
      "execution_count": 177,
      "outputs": [
        {
          "output_type": "stream",
          "text": [
            "True\n"
          ],
          "name": "stdout"
        }
      ]
    },
    {
      "cell_type": "code",
      "metadata": {
        "id": "5gZSncy6k_1M"
      },
      "source": [
        "\n",
        "X = final_dataset.drop(['target'],axis=1)\n",
        "y = final_dataset['target']\n",
        "from sklearn.model_selection import train_test_split\n",
        "X_train, X_test, y_train, y_test = train_test_split(X, y, test_size=0.3, random_state=0)\n",
        "from sklearn.preprocessing import StandardScaler\n",
        "sm = StandardScaler()\n",
        "X_train_scaled = sm.fit_transform(X_train)\n",
        "X_test_scaled = sm.transform(X_test)"
      ],
      "execution_count": 236,
      "outputs": []
    },
    {
      "cell_type": "code",
      "metadata": {
        "id": "4dXcaBa3mEb0"
      },
      "source": [
        "X_train=torch.FloatTensor(X_train_scaled).cuda()\n",
        "X_test=torch.FloatTensor(X_test_scaled).cuda()\n",
        "y_train= torch.LongTensor(y_train.values).cuda()\n",
        "y_test=torch.LongTensor(y_test.values).cuda()"
      ],
      "execution_count": 237,
      "outputs": []
    },
    {
      "cell_type": "code",
      "metadata": {
        "id": "ObpqnBgUmeTB"
      },
      "source": [
        "import torch\n",
        "from torch import nn\n",
        "import torchvision\n",
        "\n",
        "class ANN_cancer(nn.Module):\n",
        "  def __init__(self,input=30,hidden1=60,hidden2=40,output=2):\n",
        "    super(ANN_cancer,self).__init__()\n",
        "    self.FC1 = nn.Linear(input,hidden1)\n",
        "    self.relu1 = nn.ReLU()\n",
        "    self.FC2 = nn.Linear(hidden1,hidden2)\n",
        "    self.relu2 = nn.ReLU()\n",
        "    self.FC3 = nn.Linear(hidden2,output)\n",
        "  def forward(self,x):\n",
        "    x = self.FC1(x)\n",
        "    x = self.relu1(x)\n",
        "    x = self.FC2(x)\n",
        "    x = self.relu2(x)\n",
        "    x = self.FC3(x)\n",
        "    #y_pred  = torch.sigmoid(x)\n",
        "    return x "
      ],
      "execution_count": 272,
      "outputs": []
    },
    {
      "cell_type": "code",
      "metadata": {
        "id": "x0MrQS4Jn6KY"
      },
      "source": [
        "model1 = ANN_cancer()\n",
        "loss_fn = nn.CrossEntropyLoss()\n",
        "optimizer1 = torch.optim.Adam(model1.parameters(), lr = 0.01)"
      ],
      "execution_count": 281,
      "outputs": []
    },
    {
      "cell_type": "code",
      "metadata": {
        "id": "tPrd_zCTocRb"
      },
      "source": [
        "model1  = model1.cuda()"
      ],
      "execution_count": 282,
      "outputs": []
    },
    {
      "cell_type": "code",
      "metadata": {
        "colab": {
          "base_uri": "https://localhost:8080/"
        },
        "id": "3ZQUP_L7oyjz",
        "outputId": "8a82be51-54e9-444e-b1fb-f33791716b3a"
      },
      "source": [
        "print(model1.parameters)"
      ],
      "execution_count": 283,
      "outputs": [
        {
          "output_type": "stream",
          "text": [
            "<bound method Module.parameters of ANN_cancer(\n",
            "  (FC1): Linear(in_features=30, out_features=60, bias=True)\n",
            "  (relu1): ReLU()\n",
            "  (FC2): Linear(in_features=60, out_features=40, bias=True)\n",
            "  (relu2): ReLU()\n",
            "  (FC3): Linear(in_features=40, out_features=2, bias=True)\n",
            ")>\n"
          ],
          "name": "stdout"
        }
      ]
    },
    {
      "cell_type": "code",
      "metadata": {
        "colab": {
          "base_uri": "https://localhost:8080/"
        },
        "id": "FAQQ3qbspfv8",
        "outputId": "9aed7437-f34b-4191-ed9e-96e3d7190cbd"
      },
      "source": [
        "epochs = 600\n",
        "final_losses=[]\n",
        "for i in range(epochs):\n",
        "  y_pred1 = model1.forward(X_train)\n",
        "  \n",
        "  optimizer1.zero_grad()\n",
        "  #l1 = loss_fn(y_pred1,y_train.reshape(-1,1))\n",
        "  l1 = loss_fn(y_pred1,y_train)\n",
        "  if i%10 == 0:\n",
        "    print(\"Epoch number: {} and the loss : {}\".format(i,l1))\n",
        "  l1.backward()\n",
        "  final_losses.append(l1)\n",
        "  optimizer1.step()\n",
        "  \n",
        "\n",
        "  \n"
      ],
      "execution_count": 284,
      "outputs": [
        {
          "output_type": "stream",
          "text": [
            "Epoch number: 0 and the loss : 0.731686532497406\n",
            "Epoch number: 10 and the loss : 0.07419878244400024\n",
            "Epoch number: 20 and the loss : 0.040923576802015305\n",
            "Epoch number: 30 and the loss : 0.018382443115115166\n",
            "Epoch number: 40 and the loss : 0.006883692927658558\n",
            "Epoch number: 50 and the loss : 0.002569825854152441\n",
            "Epoch number: 60 and the loss : 0.0010524585377424955\n",
            "Epoch number: 70 and the loss : 0.0005515427328646183\n",
            "Epoch number: 80 and the loss : 0.0003368195903021842\n",
            "Epoch number: 90 and the loss : 0.0002376161137362942\n",
            "Epoch number: 100 and the loss : 0.00018117111176252365\n",
            "Epoch number: 110 and the loss : 0.00014731657574884593\n",
            "Epoch number: 120 and the loss : 0.00012343910930212587\n",
            "Epoch number: 130 and the loss : 0.00010591509635560215\n",
            "Epoch number: 140 and the loss : 9.223502274835482e-05\n",
            "Epoch number: 150 and the loss : 8.122962026391178e-05\n",
            "Epoch number: 160 and the loss : 7.220272527774796e-05\n",
            "Epoch number: 170 and the loss : 6.470896914834157e-05\n",
            "Epoch number: 180 and the loss : 5.830304871778935e-05\n",
            "Epoch number: 190 and the loss : 5.283704012981616e-05\n",
            "Epoch number: 200 and the loss : 4.811137114302255e-05\n",
            "Epoch number: 210 and the loss : 4.4035656173946336e-05\n",
            "Epoch number: 220 and the loss : 4.0462633478455245e-05\n",
            "Epoch number: 230 and the loss : 3.732174445758574e-05\n",
            "Epoch number: 240 and the loss : 3.453036697464995e-05\n",
            "Epoch number: 250 and the loss : 3.205613393220119e-05\n",
            "Epoch number: 260 and the loss : 2.985222454299219e-05\n",
            "Epoch number: 270 and the loss : 2.786648656183388e-05\n",
            "Epoch number: 280 and the loss : 2.608017712191213e-05\n",
            "Epoch number: 290 and the loss : 2.4469365598633885e-05\n",
            "Epoch number: 300 and the loss : 2.3001828594715334e-05\n",
            "Epoch number: 310 and the loss : 2.1653922885889187e-05\n",
            "Epoch number: 320 and the loss : 2.0438541469047777e-05\n",
            "Epoch number: 330 and the loss : 1.931706901814323e-05\n",
            "Epoch number: 340 and the loss : 1.829371103667654e-05\n",
            "Epoch number: 350 and the loss : 1.734366378514096e-05\n",
            "Epoch number: 360 and the loss : 1.646304372115992e-05\n",
            "Epoch number: 370 and the loss : 1.564793274155818e-05\n",
            "Epoch number: 380 and the loss : 1.4897758774168324e-05\n",
            "Epoch number: 390 and the loss : 1.4200251825968735e-05\n",
            "Epoch number: 400 and the loss : 1.354972118861042e-05\n",
            "Epoch number: 410 and the loss : 1.2949178199050948e-05\n",
            "Epoch number: 420 and the loss : 1.238184268004261e-05\n",
            "Epoch number: 430 and the loss : 1.1854625881824177e-05\n",
            "Epoch number: 440 and the loss : 1.1355530659784563e-05\n",
            "Epoch number: 450 and the loss : 1.0891466445173137e-05\n",
            "Epoch number: 460 and the loss : 1.0458522410772275e-05\n",
            "Epoch number: 470 and the loss : 1.0044441296486184e-05\n",
            "Epoch number: 480 and the loss : 9.660890100349206e-06\n",
            "Epoch number: 490 and the loss : 9.298294571635779e-06\n",
            "Epoch number: 500 and the loss : 8.952161806519143e-06\n",
            "Epoch number: 510 and the loss : 8.62848355609458e-06\n",
            "Epoch number: 520 and the loss : 8.323062502313405e-06\n",
            "Epoch number: 530 and the loss : 8.031416655285284e-06\n",
            "Epoch number: 540 and the loss : 7.752641067781951e-06\n",
            "Epoch number: 550 and the loss : 7.491531960113207e-06\n",
            "Epoch number: 560 and the loss : 7.242395895445952e-06\n",
            "Epoch number: 570 and the loss : 7.006135092524346e-06\n",
            "Epoch number: 580 and the loss : 6.782147920603165e-06\n",
            "Epoch number: 590 and the loss : 6.565346666320693e-06\n"
          ],
          "name": "stdout"
        }
      ]
    },
    {
      "cell_type": "code",
      "metadata": {
        "colab": {
          "base_uri": "https://localhost:8080/",
          "height": 622
        },
        "id": "Q2q4Dwx1wi3A",
        "outputId": "1958d07d-3de1-4584-af17-380b8743fd7e"
      },
      "source": [
        "import matplotlib.pyplot as plt\n",
        "plt.figure(figsize=(15,10))\n",
        "plt.plot(range(epochs),final_losses)\n",
        "plt.ylabel('Loss')\n",
        "plt.xlabel('Epoch')"
      ],
      "execution_count": 285,
      "outputs": [
        {
          "output_type": "execute_result",
          "data": {
            "text/plain": [
              "Text(0.5, 0, 'Epoch')"
            ]
          },
          "metadata": {
            "tags": []
          },
          "execution_count": 285
        },
        {
          "output_type": "display_data",
          "data": {
            "image/png": "[encoded data removed]",
            "text/plain": [
              "<Figure size 1080x720 with 1 Axes>"
            ]
          },
          "metadata": {
            "tags": [],
            "needs_background": "light"
          }
        }
      ]
    },
    {
      "cell_type": "code",
      "metadata": {
        "id": "A7AXjtf8zGx4"
      },
      "source": [
        "predictions=[]\n",
        "with torch.no_grad():\n",
        "    for i,data in enumerate(X_test):\n",
        "        y_pred12=model1(data)\n",
        "        predictions.append(y_pred12.argmax().item())\n",
        "        "
      ],
      "execution_count": 286,
      "outputs": []
    },
    {
      "cell_type": "code",
      "metadata": {
        "colab": {
          "base_uri": "https://localhost:8080/"
        },
        "id": "nngVmKetzUSl",
        "outputId": "0515c39f-2772-4a72-8e69-1efbb17f6265"
      },
      "source": [
        "y_test1 = y_test.cpu().numpy()\n",
        "from sklearn.metrics import confusion_matrix\n",
        "cm=confusion_matrix(y_test1,predictions)\n",
        "cm"
      ],
      "execution_count": 287,
      "outputs": [
        {
          "output_type": "execute_result",
          "data": {
            "text/plain": [
              "array([[ 61,   2],\n",
              "       [  2, 106]])"
            ]
          },
          "metadata": {
            "tags": []
          },
          "execution_count": 287
        }
      ]
    },
    {
      "cell_type": "code",
      "metadata": {
        "colab": {
          "base_uri": "https://localhost:8080/"
        },
        "id": "WRZ7gNKIza2L",
        "outputId": "607ffdd4-f1d5-4397-c1ee-d7b814e8a084"
      },
      "source": [
        "from sklearn.metrics import accuracy_score\n",
        "score=accuracy_score(y_test1,predictions)\n",
        "score"
      ],
      "execution_count": 288,
      "outputs": [
        {
          "output_type": "execute_result",
          "data": {
            "text/plain": [
              "0.9766081871345029"
            ]
          },
          "metadata": {
            "tags": []
          },
          "execution_count": 288
        }
      ]
    },
    {
      "cell_type": "code",
      "metadata": {
        "id": "O4WBScrg0B6G"
      },
      "source": [
        "##################### New ##################\n",
        "\n",
        "def correlation(dataset, threshold):\n",
        "    col_corr = set()  # Set of all the names of correlated columns\n",
        "    corr_matrix = dataset.corr()\n",
        "    for i in range(len(corr_matrix.columns)):\n",
        "        for j in range(i):\n",
        "            if abs(corr_matrix.iloc[i, j]) > threshold: # we are interested in absolute coeff value\n",
        "                colname = corr_matrix.columns[i]  # getting the name of column\n",
        "                col_corr.add(colname)\n",
        "    return col_corr"
      ],
      "execution_count": 290,
      "outputs": []
    },
    {
      "cell_type": "code",
      "metadata": {
        "colab": {
          "base_uri": "https://localhost:8080/"
        },
        "id": "MoxzsCXs2KJz",
        "outputId": "3bdb953b-e367-4383-a971-ed4ead2a74ed"
      },
      "source": [
        "correlation(final_dataset,0.9)"
      ],
      "execution_count": 291,
      "outputs": [
        {
          "output_type": "execute_result",
          "data": {
            "text/plain": [
              "{'area error',\n",
              " 'mean area',\n",
              " 'mean concave points',\n",
              " 'mean perimeter',\n",
              " 'perimeter error',\n",
              " 'worst area',\n",
              " 'worst concave points',\n",
              " 'worst perimeter',\n",
              " 'worst radius',\n",
              " 'worst texture'}"
            ]
          },
          "metadata": {
            "tags": []
          },
          "execution_count": 291
        }
      ]
    },
    {
      "cell_type": "code",
      "metadata": {
        "id": "DVqU2UnY2NEU"
      },
      "source": [
        "\n",
        "##### Dropping highly corelated columns #####################\n",
        "\n",
        "final_dataset =  final_dataset.drop(['area error',\n",
        " 'mean area',\n",
        " 'mean concave points',\n",
        " 'mean perimeter',\n",
        " 'perimeter error',\n",
        " 'worst area',\n",
        " 'worst concave points',\n",
        " 'worst perimeter',\n",
        " 'worst radius',\n",
        " 'worst texture'],axis=1)"
      ],
      "execution_count": 292,
      "outputs": []
    },
    {
      "cell_type": "code",
      "metadata": {
        "colab": {
          "base_uri": "https://localhost:8080/"
        },
        "id": "D_9PFVMh2QaA",
        "outputId": "8fb56f87-1cfe-4d52-ca52-3b3056d8392a"
      },
      "source": [
        "final_dataset.shape"
      ],
      "execution_count": 293,
      "outputs": [
        {
          "output_type": "execute_result",
          "data": {
            "text/plain": [
              "(569, 21)"
            ]
          },
          "metadata": {
            "tags": []
          },
          "execution_count": 293
        }
      ]
    },
    {
      "cell_type": "code",
      "metadata": {
        "id": "jUVu8bSO2TzX"
      },
      "source": [
        "X = final_dataset.drop(['target'],axis=1)\n",
        "y = final_dataset['target']\n",
        "from sklearn.model_selection import train_test_split\n",
        "X_train, X_test, y_train, y_test = train_test_split(X, y, test_size=0.3, random_state=5)\n",
        "\n",
        "from sklearn.preprocessing import StandardScaler\n",
        "sm = StandardScaler()\n",
        "X_train_scaled = sm.fit_transform(X_train)\n",
        "X_test_scaled = sm.transform(X_test)\n",
        "\n",
        "X_train=torch.FloatTensor(X_train_scaled).cuda()\n",
        "X_test=torch.FloatTensor(X_test_scaled).cuda()\n",
        "y_train= torch.LongTensor(y_train.values).cuda()\n",
        "y_test=torch.LongTensor(y_test.values).cuda()\n"
      ],
      "execution_count": 295,
      "outputs": []
    },
    {
      "cell_type": "code",
      "metadata": {
        "colab": {
          "base_uri": "https://localhost:8080/"
        },
        "id": "Z0D_udgi2b5Y",
        "outputId": "ff8337f0-a372-4e04-c833-221546651599"
      },
      "source": [
        "import torch\n",
        "from torch import nn\n",
        "import torchvision\n",
        "\n",
        "class ANN_cancer_corr(nn.Module):\n",
        "  def __init__(self,input=20,hidden1=40,hidden2=20,output=2):\n",
        "    super(ANN_cancer_corr,self).__init__()\n",
        "    self.FC1 = nn.Linear(input,hidden1)\n",
        "    self.relu1 = nn.ReLU()\n",
        "    self.FC2 = nn.Linear(hidden1,hidden2)\n",
        "    self.relu2 = nn.ReLU()\n",
        "    self.FC3 = nn.Linear(hidden2,output)\n",
        "  def forward(self,x):\n",
        "    x = self.FC1(x)\n",
        "    x = self.relu1(x)\n",
        "    x = self.FC2(x)\n",
        "    x = self.relu2(x)\n",
        "    x = self.FC3(x)\n",
        "    #y_pred  = torch.sigmoid(x)\n",
        "    return x \n",
        "\n",
        "model2 = ANN_cancer_corr()\n",
        "loss_fn = nn.CrossEntropyLoss()\n",
        "optimizer1 = torch.optim.Adam(model2.parameters(), lr = 0.015)\n",
        "\n",
        "\n",
        "model2  = model2.cuda()\n",
        "epochs = 200\n",
        "final_losses=[]\n",
        "for i in range(epochs):\n",
        "  y_pred1 = model2.forward(X_train)\n",
        "  \n",
        "  optimizer1.zero_grad()\n",
        "  #l1 = loss_fn(y_pred1,y_train.reshape(-1,1))\n",
        "  l1 = loss_fn(y_pred1,y_train)\n",
        "  if i%10 == 0:\n",
        "    print(\"Epoch number: {} and the loss : {}\".format(i,l1))\n",
        "  l1.backward()\n",
        "  final_losses.append(l1)\n",
        "  optimizer1.step()"
      ],
      "execution_count": 391,
      "outputs": [
        {
          "output_type": "stream",
          "text": [
            "Epoch number: 0 and the loss : 0.6371100544929504\n",
            "Epoch number: 10 and the loss : 0.09274987131357193\n",
            "Epoch number: 20 and the loss : 0.03091474063694477\n",
            "Epoch number: 30 and the loss : 0.008846224285662174\n",
            "Epoch number: 40 and the loss : 0.0024916513357311487\n",
            "Epoch number: 50 and the loss : 0.0009975164430215955\n",
            "Epoch number: 60 and the loss : 0.0004798441950697452\n",
            "Epoch number: 70 and the loss : 0.00029680586885660887\n",
            "Epoch number: 80 and the loss : 0.00020978240354452282\n",
            "Epoch number: 90 and the loss : 0.00016081426292657852\n",
            "Epoch number: 100 and the loss : 0.00012993282871320844\n",
            "Epoch number: 110 and the loss : 0.00010764157195808366\n",
            "Epoch number: 120 and the loss : 9.120059257838875e-05\n",
            "Epoch number: 130 and the loss : 7.860087498556823e-05\n",
            "Epoch number: 140 and the loss : 6.74747207085602e-05\n",
            "Epoch number: 150 and the loss : 5.732489444199018e-05\n",
            "Epoch number: 160 and the loss : 4.827912198379636e-05\n",
            "Epoch number: 170 and the loss : 4.083819658262655e-05\n",
            "Epoch number: 180 and the loss : 3.482321335468441e-05\n",
            "Epoch number: 190 and the loss : 2.9999790058354847e-05\n"
          ],
          "name": "stdout"
        }
      ]
    },
    {
      "cell_type": "code",
      "metadata": {
        "colab": {
          "base_uri": "https://localhost:8080/",
          "height": 622
        },
        "id": "fZrYqxkk20zZ",
        "outputId": "82d2d875-177b-4370-b737-b8500f59ec1b"
      },
      "source": [
        "import matplotlib.pyplot as plt\n",
        "plt.figure(figsize=(15,10))\n",
        "plt.plot(range(epochs),final_losses)\n",
        "plt.ylabel('Loss')\n",
        "plt.xlabel('Epoch')"
      ],
      "execution_count": 392,
      "outputs": [
        {
          "output_type": "execute_result",
          "data": {
            "text/plain": [
              "Text(0.5, 0, 'Epoch')"
            ]
          },
          "metadata": {
            "tags": []
          },
          "execution_count": 392
        },
        {
          "output_type": "display_data",
          "data": {
            "image/png": "[encoded data removed]",
            "text/plain": [
              "<Figure size 1080x720 with 1 Axes>"
            ]
          },
          "metadata": {
            "tags": [],
            "needs_background": "light"
          }
        }
      ]
    },
    {
      "cell_type": "code",
      "metadata": {
        "id": "P-3-PPOT28UD"
      },
      "source": [
        "predictions=[]\n",
        "with torch.no_grad():\n",
        "    for i,data in enumerate(X_test):\n",
        "        y_pred12=model2(data)\n",
        "        predictions.append(y_pred12.argmax().item())"
      ],
      "execution_count": 393,
      "outputs": []
    },
    {
      "cell_type": "code",
      "metadata": {
        "colab": {
          "base_uri": "https://localhost:8080/"
        },
        "id": "hw0VRMLd2_-S",
        "outputId": "d4408cd8-2231-4c17-95a4-2cd92fb9eac1"
      },
      "source": [
        "y_test1 = y_test.cpu().numpy()\n",
        "from sklearn.metrics import confusion_matrix\n",
        "cm=confusion_matrix(y_test1,predictions)\n",
        "cm"
      ],
      "execution_count": 394,
      "outputs": [
        {
          "output_type": "execute_result",
          "data": {
            "text/plain": [
              "array([[ 57,   4],\n",
              "       [  0, 110]])"
            ]
          },
          "metadata": {
            "tags": []
          },
          "execution_count": 394
        }
      ]
    },
    {
      "cell_type": "code",
      "metadata": {
        "colab": {
          "base_uri": "https://localhost:8080/"
        },
        "id": "zXa1niRP3GOa",
        "outputId": "e43f2808-ccd9-43f3-b55e-3db17981f073"
      },
      "source": [
        "from sklearn.metrics import accuracy_score\n",
        "score=accuracy_score(y_test1,predictions)\n",
        "score"
      ],
      "execution_count": 395,
      "outputs": [
        {
          "output_type": "execute_result",
          "data": {
            "text/plain": [
              "0.9766081871345029"
            ]
          },
          "metadata": {
            "tags": []
          },
          "execution_count": 395
        }
      ]
    },
    {
      "cell_type": "code",
      "metadata": {
        "id": "XXuSGKhE3KOY"
      },
      "source": [
        ""
      ],
      "execution_count": null,
      "outputs": []
    }
  ]
}